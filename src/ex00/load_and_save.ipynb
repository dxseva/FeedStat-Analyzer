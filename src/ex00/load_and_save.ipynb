{
 "cells": [
  {
   "metadata": {
    "ExecuteTime": {
     "end_time": "2025-07-28T12:20:33.475863Z",
     "start_time": "2025-07-28T12:20:33.462120Z"
    }
   },
   "cell_type": "code",
   "source": [
    "import pandas as pd\n",
    "\n",
    "df = pd.read_csv('/home/sevinch/school21 projects/DS_Bootcamp.Day05.ID_886517-1/src/data/feed-views.log', skiprows=[2, 3], skipfooter=2, names=['datetime', 'user'], index_col='datetime', engine='python'   )"
   ],
   "id": "facbdc3817a1af78",
   "outputs": [],
   "execution_count": 19
  },
  {
   "metadata": {
    "ExecuteTime": {
     "end_time": "2025-07-28T12:20:33.504367Z",
     "start_time": "2025-07-28T12:20:33.500211Z"
    }
   },
   "cell_type": "code",
   "source": "df.index.name = 'date_time'",
   "id": "686812f0bb19b92f",
   "outputs": [],
   "execution_count": 20
  },
  {
   "metadata": {
    "ExecuteTime": {
     "end_time": "2025-07-28T12:20:33.569948Z",
     "start_time": "2025-07-28T12:20:33.560509Z"
    }
   },
   "cell_type": "code",
   "source": "df.to_csv('/home/sevinch/school21 projects/DS_Bootcamp.Day05.ID_886517-1/src/data/feed-views-semicolon.log', sep=';')",
   "id": "fd99c68739b9fd6f",
   "outputs": [],
   "execution_count": 21
  }
 ],
 "metadata": {
  "kernelspec": {
   "display_name": "Python 3",
   "language": "python",
   "name": "python3"
  },
  "language_info": {
   "codemirror_mode": {
    "name": "ipython",
    "version": 2
   },
   "file_extension": ".py",
   "mimetype": "text/x-python",
   "name": "python",
   "nbconvert_exporter": "python",
   "pygments_lexer": "ipython2",
   "version": "2.7.6"
  }
 },
 "nbformat": 4,
 "nbformat_minor": 5
}

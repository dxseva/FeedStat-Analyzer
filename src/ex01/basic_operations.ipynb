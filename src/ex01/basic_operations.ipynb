{
 "cells": [
  {
   "cell_type": "code",
   "id": "26b58706e38ea828",
   "metadata": {
    "ExecuteTime": {
     "end_time": "2025-07-30T16:58:41.636037Z",
     "start_time": "2025-07-30T16:58:41.093021Z"
    }
   },
   "source": [
    "import pandas as pd\n",
    "\n",
    "views = pd.read_csv('/home/sevinch/school21 projects/DS_Bootcamp.Day05.ID_886517-1/src/data/feed-views.log', sep='\\t', header=0, names=['datetime', 'user'])\n",
    "\n",
    "print(views.head())"
   ],
   "outputs": [
    {
     "name": "stdout",
     "output_type": "stream",
     "text": [
      "                     datetime     user\n",
      "0  2020-04-17 12:01:08.463179   artem;\n",
      "1  2020-04-17 12:01:23.743946   artem;\n",
      "2  2020-04-17 12:35:52.735016   artem;\n",
      "3  2020-04-17 12:36:21.401412  oksana;\n",
      "4  2020-04-17 12:36:22.023355  oksana;\n"
     ]
    }
   ],
   "execution_count": 1
  },
  {
   "cell_type": "code",
   "id": "31d659a9e4f26a0c",
   "metadata": {
    "ExecuteTime": {
     "end_time": "2025-07-30T16:58:41.808734Z",
     "start_time": "2025-07-30T16:58:41.802024Z"
    }
   },
   "source": [
    "\n",
    "views['datetime'] = pd.to_datetime(views['datetime'], format='%Y-%m-%d %H:%M:%S.%f')\n"
   ],
   "outputs": [],
   "execution_count": 2
  },
  {
   "cell_type": "code",
   "id": "843c668374838448",
   "metadata": {
    "ExecuteTime": {
     "end_time": "2025-07-30T16:58:41.849645Z",
     "start_time": "2025-07-30T16:58:41.836803Z"
    }
   },
   "source": [
    "views['year'] = views['datetime'].dt.year\n",
    "views['month'] = views['datetime'].dt.month\n",
    "views['day'] = views['datetime'].dt.day\n",
    "views['hour'] = views['datetime'].dt.hour\n",
    "views['minute'] = views['datetime'].dt.minute\n",
    "views['second'] = views['datetime'].dt.second\n",
    "\n",
    "print(views.head())"
   ],
   "outputs": [
    {
     "name": "stdout",
     "output_type": "stream",
     "text": [
      "                    datetime     user  year  month  day  hour  minute  second\n",
      "0 2020-04-17 12:01:08.463179   artem;  2020      4   17    12       1       8\n",
      "1 2020-04-17 12:01:23.743946   artem;  2020      4   17    12       1      23\n",
      "2 2020-04-17 12:35:52.735016   artem;  2020      4   17    12      35      52\n",
      "3 2020-04-17 12:36:21.401412  oksana;  2020      4   17    12      36      21\n",
      "4 2020-04-17 12:36:22.023355  oksana;  2020      4   17    12      36      22\n"
     ]
    }
   ],
   "execution_count": 3
  },
  {
   "cell_type": "code",
   "id": "2ca74924683f0dae",
   "metadata": {
    "ExecuteTime": {
     "end_time": "2025-07-30T16:58:41.923188Z",
     "start_time": "2025-07-30T16:58:41.912446Z"
    }
   },
   "source": [
    "bins = [0, 4, 7, 11, 17, 20, 24]\n",
    "labels = ['night', 'early morning', 'morning', 'afternoon', 'early evening', 'evening']\n",
    "views['daytime'] = pd.cut(views['hour'], bins=bins, labels=labels, include_lowest=True)\n",
    "\n",
    "print(\"DataFrame with daytime column:\")\n",
    "print(views[['datetime', 'hour', 'daytime']].head())"
   ],
   "outputs": [
    {
     "name": "stdout",
     "output_type": "stream",
     "text": [
      "DataFrame with daytime column:\n",
      "                    datetime  hour    daytime\n",
      "0 2020-04-17 12:01:08.463179    12  afternoon\n",
      "1 2020-04-17 12:01:23.743946    12  afternoon\n",
      "2 2020-04-17 12:35:52.735016    12  afternoon\n",
      "3 2020-04-17 12:36:21.401412    12  afternoon\n",
      "4 2020-04-17 12:36:22.023355    12  afternoon\n"
     ]
    }
   ],
   "execution_count": 4
  },
  {
   "metadata": {
    "ExecuteTime": {
     "end_time": "2025-07-30T16:58:42.003585Z",
     "start_time": "2025-07-30T16:58:41.995807Z"
    }
   },
   "cell_type": "code",
   "source": [
    "# views.set_index('user', inplace=True)\n",
    "print(views.head())\n",
    "print(views.columns)"
   ],
   "id": "769e3ad3e2074948",
   "outputs": [
    {
     "name": "stdout",
     "output_type": "stream",
     "text": [
      "                    datetime     user  year  month  day  hour  minute  second  \\\n",
      "0 2020-04-17 12:01:08.463179   artem;  2020      4   17    12       1       8   \n",
      "1 2020-04-17 12:01:23.743946   artem;  2020      4   17    12       1      23   \n",
      "2 2020-04-17 12:35:52.735016   artem;  2020      4   17    12      35      52   \n",
      "3 2020-04-17 12:36:21.401412  oksana;  2020      4   17    12      36      21   \n",
      "4 2020-04-17 12:36:22.023355  oksana;  2020      4   17    12      36      22   \n",
      "\n",
      "     daytime  \n",
      "0  afternoon  \n",
      "1  afternoon  \n",
      "2  afternoon  \n",
      "3  afternoon  \n",
      "4  afternoon  \n",
      "Index(['datetime', 'user', 'year', 'month', 'day', 'hour', 'minute', 'second',\n",
      "       'daytime'],\n",
      "      dtype='object')\n"
     ]
    }
   ],
   "execution_count": 5
  },
  {
   "metadata": {
    "ExecuteTime": {
     "end_time": "2025-07-30T16:58:42.098842Z",
     "start_time": "2025-07-30T16:58:42.092513Z"
    }
   },
   "cell_type": "code",
   "source": [
    "print(\"Count of non-null values per column:\")\n",
    "print(views.count())"
   ],
   "id": "515ff7e0b90d1a0b",
   "outputs": [
    {
     "name": "stdout",
     "output_type": "stream",
     "text": [
      "Count of non-null values per column:\n",
      "datetime    1072\n",
      "user        1072\n",
      "year        1072\n",
      "month       1072\n",
      "day         1072\n",
      "hour        1072\n",
      "minute      1072\n",
      "second      1072\n",
      "daytime     1072\n",
      "dtype: int64\n"
     ]
    }
   ],
   "execution_count": 6
  },
  {
   "metadata": {
    "ExecuteTime": {
     "end_time": "2025-07-30T16:58:42.180548Z",
     "start_time": "2025-07-30T16:58:42.174098Z"
    }
   },
   "cell_type": "code",
   "source": [
    "print(\"\\nNumber of entries per daytime category:\")\n",
    "print(views['daytime'].value_counts())"
   ],
   "id": "4d1b6b7450417d99",
   "outputs": [
    {
     "name": "stdout",
     "output_type": "stream",
     "text": [
      "\n",
      "Number of entries per daytime category:\n",
      "daytime\n",
      "evening          444\n",
      "afternoon        277\n",
      "early evening    144\n",
      "night            134\n",
      "morning           73\n",
      "early morning      0\n",
      "Name: count, dtype: int64\n"
     ]
    }
   ],
   "execution_count": 7
  },
  {
   "metadata": {
    "ExecuteTime": {
     "end_time": "2025-07-30T16:58:42.270869Z",
     "start_time": "2025-07-30T16:58:42.258974Z"
    }
   },
   "cell_type": "code",
   "source": [
    "# sort values in your dataframe by hour, minute, and second in ascending order (simultaneously and not one by one)\n",
    "print(views.sort_values(by = ['hour', 'minute', 'second'], ascending= True).head())"
   ],
   "id": "8f9c4534c32a1ef2",
   "outputs": [
    {
     "name": "stdout",
     "output_type": "stream",
     "text": [
      "                      datetime        user  year  month  day  hour  minute  \\\n",
      "942 2020-05-15 00:00:13.222265  valentina;  2020      5   15     0       0   \n",
      "943 2020-05-15 00:01:05.153738  valentina;  2020      5   15     0       1   \n",
      "561 2020-05-12 00:01:27.764025      pavel;  2020      5   12     0       1   \n",
      "562 2020-05-12 00:01:38.444917      pavel;  2020      5   12     0       1   \n",
      "563 2020-05-12 00:01:55.395042      pavel;  2020      5   12     0       1   \n",
      "\n",
      "     second daytime  \n",
      "942      13   night  \n",
      "943       5   night  \n",
      "561      27   night  \n",
      "562      38   night  \n",
      "563      55   night  \n"
     ]
    }
   ],
   "execution_count": 8
  },
  {
   "metadata": {
    "ExecuteTime": {
     "end_time": "2025-07-30T16:58:42.345271Z",
     "start_time": "2025-07-30T16:58:42.336004Z"
    }
   },
   "cell_type": "code",
   "source": [
    "'''calculate the maximum of hour for the rows where the time of day is night\n",
    "    calculate the minimum of hour for the rows where the time of day is morning'''\n",
    "\n",
    "max_hour_at_night = views[views[\"daytime\"] == \"night\"][\"hour\"].max()\n",
    "min_hour_at_morning = views[views[\"daytime\"] == \"morning\"][\"hour\"].min()\n",
    "\n",
    "night_visits_at_max_hour = views[(views[\"daytime\"] == \"night\") & (views[\"hour\"] == max_hour_at_night)]\n",
    "user_at_max_hour = night_visits_at_max_hour.head(1).index[0]\n",
    "\n",
    "print(f'Maximum hour at night = {max_hour_at_night} Minimum hour at the morning = {min_hour_at_morning} Who visited the web-site at this time: {user_at_max_hour}')"
   ],
   "id": "8b0b958507064fde",
   "outputs": [
    {
     "name": "stdout",
     "output_type": "stream",
     "text": [
      "Maximum hour at night = 4 Minimum hour at the morning = 8 Who visited the web-site at this time: 311\n"
     ]
    }
   ],
   "execution_count": 9
  },
  {
   "metadata": {
    "ExecuteTime": {
     "end_time": "2025-07-30T16:58:42.436095Z",
     "start_time": "2025-07-30T16:58:42.429357Z"
    }
   },
   "cell_type": "code",
   "source": [
    "''' In addition to this, find out who visited the page at those hours (make one example from that)\n",
    "    calculate the mode for the hour and daytime '''\n",
    "\n",
    "common_hour = views[\"hour\"].mode()[0]\n",
    "visitors_at_common_hour = views[views[\"hour\"] == common_hour]\n",
    "\n",
    "most_common_daytime = views[\"daytime\"].mode()[0]\n",
    "\n",
    "print(f'Most common daytime = {most_common_daytime}')\n",
    "print(f'Most common hour = {common_hour}')\n",
    "print(f'Most common visitor: {visitors_at_common_hour.head(1).index[0]}')"
   ],
   "id": "7dec2ff12abac7f4",
   "outputs": [
    {
     "name": "stdout",
     "output_type": "stream",
     "text": [
      "Most common daytime = evening\n",
      "Most common hour = 22\n",
      "Most common visitor: 8\n"
     ]
    }
   ],
   "execution_count": 10
  },
  {
   "metadata": {
    "ExecuteTime": {
     "end_time": "2025-07-30T16:58:42.537885Z",
     "start_time": "2025-07-30T16:58:42.504773Z"
    }
   },
   "cell_type": "code",
   "source": [
    "''' show the 3 earliest hours in the morning and the corresponding usernames and the 3 latest hours and the usernames using nsmallest() and nlargest()\n",
    "use the method describe() to get the basic statistics for the columns\n",
    "'''\n",
    "\n",
    "earliest_hours = views['hour'].nsmallest(3)\n",
    "latest_hours = views['hour'].nlargest(3)\n",
    "\n",
    "\n",
    "print(earliest_hours)\n",
    "print(latest_hours)\n",
    "print(views.describe())"
   ],
   "id": "352176e468259742",
   "outputs": [
    {
     "name": "stdout",
     "output_type": "stream",
     "text": [
      "9     0\n",
      "38    0\n",
      "39    0\n",
      "Name: hour, dtype: int32\n",
      "36    23\n",
      "37    23\n",
      "57    23\n",
      "Name: hour, dtype: int32\n",
      "                            datetime    year        month          day  \\\n",
      "count                           1072  1072.0  1072.000000  1072.000000   \n",
      "mean   2020-05-10 09:30:16.241518592  2020.0     4.872201    13.531716   \n",
      "min       2020-04-17 12:01:08.463179  2020.0     4.000000     1.000000   \n",
      "25%    2020-05-10 01:13:53.448644096  2020.0     5.000000    11.000000   \n",
      "50%    2020-05-11 22:48:35.302552832  2020.0     5.000000    13.000000   \n",
      "75%    2020-05-14 14:30:41.062071296  2020.0     5.000000    14.000000   \n",
      "max       2020-05-21 23:23:49.995349  2020.0     5.000000    30.000000   \n",
      "std                              NaN     0.0     0.334021     4.901354   \n",
      "\n",
      "              hour       minute       second  \n",
      "count  1072.000000  1072.000000  1072.000000  \n",
      "mean     16.256530    29.602612    29.508396  \n",
      "min       0.000000     0.000000     0.000000  \n",
      "25%      13.000000    14.000000    14.000000  \n",
      "50%      19.000000    29.000000    30.000000  \n",
      "75%      22.000000    46.000000    45.000000  \n",
      "max      23.000000    59.000000    59.000000  \n",
      "std       6.960369    17.710471    17.424398  \n"
     ]
    }
   ],
   "execution_count": 11
  },
  {
   "metadata": {
    "ExecuteTime": {
     "end_time": "2025-07-30T16:58:42.616980Z",
     "start_time": "2025-07-30T16:58:42.610281Z"
    }
   },
   "cell_type": "code",
   "source": [
    "''' to find out what the most popular interval for visiting the page is, calculate the interquartile range for the hour by extracting values from the result of the describe() method and store it in the variable iqr\n",
    "'''\n",
    "\n",
    "desc = views['hour'].describe()\n",
    "q1 = desc['25%']\n",
    "q3 = desc['75%']\n",
    "iqr = q3 - q1\n",
    "print(f'Interquartile Range (IQR) for hour: {iqr}')"
   ],
   "id": "9bc89eeb723359df",
   "outputs": [
    {
     "name": "stdout",
     "output_type": "stream",
     "text": [
      "Interquartile Range (IQR) for hour: 9.0\n"
     ]
    }
   ],
   "execution_count": 12
  }
 ],
 "metadata": {
  "language_info": {
   "name": "python"
  }
 },
 "nbformat": 4,
 "nbformat_minor": 5
}
